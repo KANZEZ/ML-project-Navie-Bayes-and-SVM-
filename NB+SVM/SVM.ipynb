{
 "cells": [
  {
   "cell_type": "markdown",
   "source": [
    "11912705黄松昊\n",
    "SVM\n",
    "\n",
    "# please read ReadMe file before testing\n",
    "\n",
    "\n",
    "# DataSet: using data from both minist website and Class\n",
    "# classifier: 0-9 classifier\n",
    "\n",
    "# steps for svm\n",
    "\n",
    "# 1. img data pre-process (Binarization,scale(0,1),align)\n",
    "# 2. training svm model (4 models)\n",
    "# 3. adjust param (cross validation * grid search)\n",
    "# 4. testing & showing\n",
    "# 5. performance on different SVM(with different kernels and regularization)\n",
    "\n"
   ],
   "metadata": {
    "collapsed": false,
    "pycharm": {
     "name": "#%% md\n"
    }
   }
  },
  {
   "cell_type": "markdown",
   "source": [
    "import packages"
   ],
   "metadata": {
    "collapsed": false,
    "pycharm": {
     "name": "#%% md\n"
    }
   }
  },
  {
   "cell_type": "code",
   "execution_count": 10,
   "outputs": [],
   "source": [
    "import gzip\n",
    "import time\n",
    "import numpy as np\n",
    "from sklearn import preprocessing\n",
    "import copy\n",
    "from sklearn.svm import SVC\n",
    "from sklearn.model_selection import  cross_val_score\n",
    "import matplotlib.pyplot as plt"
   ],
   "metadata": {
    "collapsed": false,
    "pycharm": {
     "name": "#%%\n"
    }
   }
  },
  {
   "cell_type": "markdown",
   "source": [
    "variations declaration"
   ],
   "metadata": {
    "collapsed": false,
    "pycharm": {
     "name": "#%% md\n"
    }
   }
  },
  {
   "cell_type": "code",
   "execution_count": 21,
   "outputs": [],
   "source": [
    "image_size  = 28\n",
    "\n",
    "num_labels = 10\n",
    "\n",
    "num_train = 2840\n",
    "\n",
    "num_test = 900"
   ],
   "metadata": {
    "collapsed": false,
    "pycharm": {
     "name": "#%%\n"
    }
   }
  },
  {
   "cell_type": "markdown",
   "source": [
    "\n",
    "functions used for pre-processing data"
   ],
   "metadata": {
    "collapsed": false,
    "pycharm": {
     "name": "#%% md\n"
    }
   }
  },
  {
   "cell_type": "code",
   "execution_count": 22,
   "outputs": [],
   "source": [
    "def show_pic(img):\n",
    "    image = np.asarray(img).squeeze()\n",
    "    plt.imshow(image,'gray')\n",
    "    plt.show()\n",
    "\n",
    "\n",
    "# Binarization one img function set valve to creating 0\\1 data, two datasets to two ways\n",
    "def Binarization(img_data,valve):\n",
    "    img = copy.deepcopy(img_data)\n",
    "    if valve == 230:\n",
    "        for i in range(len(img)):\n",
    "            if img[i] <= valve:\n",
    "                img[i] = 0\n",
    "            else:\n",
    "                img[i] = 255\n",
    "    elif valve == 0:\n",
    "        for i in range(len(img)):\n",
    "            if img[i] > valve:\n",
    "                img[i] = 255\n",
    "            else:\n",
    "                img[i] = 0\n",
    "    return img\n",
    "\n",
    "\n",
    "# normalization,scale to (0,1)\n",
    "#def scale(X_train,X_test):\n",
    "    #min_max_scaler = preprocessing.MinMaxScaler(feature_range=(0, 1), copy=True)\n",
    "    #x_minmax_training = min_max_scaler.fit_transform(X_train)\n",
    "    #x_minmax_testing = min_max_scaler.fit_transform(X_test)\n",
    "    #return x_minmax_training,x_minmax_testing\n",
    "\n",
    "# normalization,scale to (0,1)\n",
    "def scale(X_train,X_test):\n",
    "    X1 = copy.deepcopy(X_train)\n",
    "    X2 = copy.deepcopy(X_test)\n",
    "    for i in range(len(X1)):\n",
    "        X1[i] = X1[i]/np.max(X1[i],axis=0)\n",
    "    for i in range(len(X2)):\n",
    "        X2[i] = X2[i]/np.max(X2[i],axis=0)\n",
    "    return X1,X2\n",
    "\n",
    "\n",
    "# picture number ceter alignment\n",
    "def align(img_data,kind):\n",
    "    img = copy.deepcopy(img_data)\n",
    "    row = 0\n",
    "    col = 0\n",
    "    sum_of_1 = 0\n",
    "\n",
    "    if kind == 0: # means data from web, which don't need to align\n",
    "        return img\n",
    "\n",
    "    elif kind == 230: # means data from bb\n",
    "        for i in range(len(img)):\n",
    "            for j in range(len(img[i])):\n",
    "                col+=j*(255-img[i][j])\n",
    "                row+=i*(255-img[i][j])\n",
    "        for i in range(len(img)):\n",
    "            sum_of_1 += np.sum(255-img[i])\n",
    "\n",
    "    col = col/sum_of_1\n",
    "    row = row/sum_of_1\n",
    "\n",
    "    img = np.roll(img,int(np.around(13.5-col)),axis=1)\n",
    "    img = np.roll(img,int(np.around(13.5-row)),axis=0)\n",
    "\n",
    "    return img"
   ],
   "metadata": {
    "collapsed": false,
    "pycharm": {
     "name": "#%%\n"
    }
   }
  },
  {
   "cell_type": "markdown",
   "source": [
    "\n",
    "\n",
    "Reading DataSet and pre-processing\n",
    "training data stored in 3 ways, same as testing data\n",
    "#  X_train: raw data(2840*784)\n",
    "#  X_train01: 0,1 data(2840*784)\n",
    "#  x_minmax_training: (0,1) data(2840*784)\n",
    "#  y_train: labels from 0-9(1*2840)\n",
    "\n",
    "# kind     # 230: dataset from bb , 0: dataset from web"
   ],
   "metadata": {
    "collapsed": false,
    "pycharm": {
     "name": "#%% md\n"
    }
   }
  },
  {
   "cell_type": "code",
   "execution_count": 23,
   "outputs": [],
   "source": [
    "\n",
    "\n",
    "kind = 0  # 230: dataset from bb , 0: dataset from web\n",
    "\n"
   ],
   "metadata": {
    "collapsed": false,
    "pycharm": {
     "name": "#%%\n"
    }
   }
  },
  {
   "cell_type": "code",
   "execution_count": 24,
   "id": "bef23e99",
   "metadata": {},
   "outputs": [
    {
     "name": "stdout",
     "output_type": "stream",
     "text": [
      "time for loading and processing training and testing dataset = 15.175071\n"
     ]
    }
   ],
   "source": [
    "# start counting\n",
    "start = time.perf_counter()\n",
    "\n",
    "if kind == 0: # load training data from web\n",
    "    f = gzip.open('train-images-idx3-ubyte.gz','r')\n",
    "elif kind == 230:\n",
    "    f = gzip.open('train-me338-2840-images-idx3-ubyte.gz','r')\n",
    "\n",
    "f.read(16)\n",
    "buf = f.read(image_size * image_size * num_train)\n",
    "data = np.frombuffer(buf, dtype=np.uint8).astype(np.float32)\n",
    "data = data.reshape(num_train, image_size, image_size, 1)\n",
    "X_train = []\n",
    "X_train01 = []\n",
    "\n",
    "for i in range(num_train):\n",
    "    X_train.append(align(data[i],kind).ravel())\n",
    "    X_train01.append(Binarization(X_train[i],kind))\n",
    "\n",
    "# convert to numpy array\n",
    "X_train01 = np.array(X_train01)\n",
    "X_train = np.array(X_train)\n",
    "\n",
    "if kind == 0: # load training data from web\n",
    "    f = gzip.open('train-labels-idx1-ubyte.gz','r')\n",
    "elif kind == 230:\n",
    "    f = gzip.open('train-me338-2840-labels-idx1-ubyte.gz','r')\n",
    "\n",
    "f.read(8)\n",
    "y_train = []\n",
    "for i in range(num_train):\n",
    "    buf = f.read(1)\n",
    "    y_train.append(np.frombuffer(buf, dtype=np.uint8).astype(np.int64))\n",
    "\n",
    "y_train = np.array(y_train)       # convert to numpy\n",
    "y_train = y_train.ravel()\n",
    "\n",
    "\n",
    "############################################\n",
    "\n",
    "\n",
    "#  load testing data stored in arrays  t10k-labels-idx1-ubyte\n",
    "if kind == 0: # load training data from web\n",
    "    f = gzip.open('t10k-images-idx3-ubyte.gz','r')\n",
    "elif kind == 230:\n",
    "    f = gzip.open('test-me338-900-images-idx3-ubyte.gz','r')\n",
    "\n",
    "f.read(16)\n",
    "buf = f.read(image_size * image_size * num_test)\n",
    "data2 = np.frombuffer(buf, dtype=np.uint8).astype(np.float32)\n",
    "data2 = data2.reshape(num_test, image_size, image_size, 1)\n",
    "\n",
    "\n",
    "X_test = []\n",
    "X_test01 = []\n",
    "\n",
    "for i in range(num_test):\n",
    "    X_test.append(align(data2[i],kind).ravel())\n",
    "    X_test01.append(Binarization(X_test[i],kind))\n",
    "\n",
    "X_test01 = np.array(X_test01)    # convert to numpy\n",
    "X_test = np.array(X_test)\n",
    "\n",
    "\n",
    "\n",
    "if kind == 0: # load data from web\n",
    "    f = gzip.open('t10k-labels-idx1-ubyte.gz','r')\n",
    "elif kind == 230:\n",
    "    f = gzip.open('test-me338-900-labels-idx1-ubyte.gz','r')\n",
    "\n",
    "f.read(8)\n",
    "y_test = []\n",
    "for i in range(num_test):\n",
    "    buf = f.read(1)\n",
    "    y_test.append(np.frombuffer(buf, dtype=np.uint8).astype(np.int64))\n",
    "y_test = np.array(y_test)\n",
    "y_test = y_test.ravel()\n",
    "\n",
    "\n",
    "#  Scale down\n",
    "#  x_minmax_training: (0,1) data(2840*784)\n",
    "#  x_minmax_testing: (0,1) data(900*784)\n",
    "x_minmax_training,x_minmax_testing = scale(X_train,X_test)\n",
    "\n",
    "# end time counter\n",
    "end = time.perf_counter()\n",
    "print(\"time for loading and processing training and testing dataset = %f\" % (end-start))"
   ]
  },
  {
   "cell_type": "markdown",
   "source": [
    "\n",
    "\n",
    "params setting part1\n",
    "###  param setting, find the best params for SVM with regularization term C and rbf kernel\n",
    "###  using cross-validation(grid search method)\n",
    "###  plot results with different params setting"
   ],
   "metadata": {
    "collapsed": false,
    "pycharm": {
     "name": "#%% md\n"
    }
   }
  },
  {
   "cell_type": "code",
   "execution_count": 20,
   "outputs": [
    {
     "name": "stdout",
     "output_type": "stream",
     "text": [
      "[(0.1, 0.5345070422535211), (0.2, 0.6626760563380282), (0.3, 0.7116197183098592), (0.4, 0.7387323943661972), (0.5, 0.754225352112676), (0.6, 0.7721830985915493), (0.7, 0.7852112676056338), (0.8, 0.7940140845070423), (0.9, 0.797887323943662), (1.0, 0.803169014084507), (1.1, 0.8077464788732394), (1.2, 0.809507042253521), (1.3, 0.8123239436619718), (1.4, 0.8147887323943662), (1.5, 0.8172535211267606), (1.6, 0.8179577464788732), (1.7, 0.8190140845070422), (1.8, 0.820774647887324), (1.9, 0.821830985915493), (2.0, 0.8235915492957746), (2.1, 0.8264084507042254), (2.2, 0.825), (2.3, 0.8253521126760563), (2.4, 0.8253521126760563), (2.5, 0.8246478873239436), (2.6, 0.8246478873239436), (2.7, 0.8246478873239436), (2.8, 0.825), (2.9, 0.8253521126760563), (3.0, 0.8253521126760563)]\n",
      "best_C_for_regularization = 2.100000\n",
      "best_acc_for_regularization = 0.826408\n"
     ]
    },
    {
     "data": {
      "text/plain": "<Figure size 432x288 with 1 Axes>",
      "image/png": "[encoded data removed]"
     },
     "metadata": {
      "needs_background": "light"
     },
     "output_type": "display_data"
    }
   ],
   "source": [
    "X2 = []\n",
    "Y2 = []\n",
    "M2 = []\n",
    "best_acc_for_regularization = 0\n",
    "best_C_for_regularization = 0\n",
    "for C in range(1,31,1):\n",
    "    accuracy = cross_val_score(SVC(C=C/10,decision_function_shape='ovr'),x_minmax_training,y_train,cv=5,scoring='accuracy').mean()\n",
    "    if accuracy>best_acc_for_regularization:\n",
    "        best_acc_for_regularization = accuracy\n",
    "        best_C_for_regularization = C/10\n",
    "    X2.append(C/10)\n",
    "    Y2.append(accuracy)\n",
    "    M2.append((C/10, accuracy))\n",
    "print(M2)\n",
    "plt.plot(X2,Y2)\n",
    "plt.xlabel('C')\n",
    "plt.ylabel('accuracy')\n",
    "plt.title('find best C with rbf(default) kernel')\n",
    "\n",
    "print(\"best_C_for_regularization = %f\" % best_C_for_regularization)\n",
    "print(\"best_acc_for_regularization = %f\" % best_acc_for_regularization)"
   ],
   "metadata": {
    "collapsed": false,
    "pycharm": {
     "name": "#%%\n"
    }
   }
  },
  {
   "cell_type": "markdown",
   "source": [
    "\n",
    "\n",
    "\n",
    "params setting part2\n",
    "###  params setting, find the best params for SVM with regularization term C linear kernel\n",
    "###  using cross-validation(grid search method)\n",
    "###  plot results with different params setting"
   ],
   "metadata": {
    "collapsed": false,
    "pycharm": {
     "name": "#%% md\n"
    }
   }
  },
  {
   "cell_type": "code",
   "execution_count": 27,
   "outputs": [
    {
     "name": "stdout",
     "output_type": "stream",
     "text": [
      "[(0.01, 0.6316901408450704), (0.11, 0.7573943661971831), (0.21, 0.7630281690140845), (0.31, 0.7679577464788733), (0.41, 0.7672535211267606), (0.51, 0.7707746478873239), (0.61, 0.7735915492957746), (0.71, 0.7742957746478872), (0.81, 0.7714788732394366), (0.91, 0.769718309859155), (1.01, 0.7665492957746479), (1.11, 0.7672535211267606), (1.21, 0.7665492957746479), (1.31, 0.7669014084507042), (1.41, 0.7647887323943662), (1.51, 0.7640845070422534), (1.61, 0.7626760563380282), (1.71, 0.7598591549295775), (1.81, 0.7616197183098592), (1.91, 0.7598591549295775), (2.01, 0.7588028169014084), (2.11, 0.7588028169014085), (2.21, 0.7584507042253521), (2.31, 0.7588028169014084), (2.41, 0.7591549295774648), (2.51, 0.7566901408450705), (2.61, 0.7549295774647887), (2.71, 0.7549295774647888), (2.81, 0.7545774647887323), (2.91, 0.7552816901408451), (3.01, 0.7538732394366198), (3.11, 0.755281690140845), (3.21, 0.7559859154929578), (3.31, 0.7563380281690141), (3.41, 0.7552816901408451), (3.51, 0.7545774647887323), (3.61, 0.7545774647887323), (3.71, 0.754225352112676), (3.81, 0.7538732394366197), (3.91, 0.753169014084507), (4.01, 0.7535211267605634), (4.11, 0.7538732394366197), (4.21, 0.7538732394366197), (4.31, 0.7528169014084507), (4.41, 0.753169014084507), (4.51, 0.7524647887323943), (4.61, 0.7528169014084506), (4.71, 0.752112676056338), (4.81, 0.7524647887323943), (4.91, 0.7517605633802817), (5.01, 0.7517605633802817)]\n",
      "best_C_for_linear = 0.710000\n",
      "best_acc_for_linear = 0.774296\n"
     ]
    },
    {
     "data": {
      "text/plain": "<Figure size 432x288 with 1 Axes>",
      "image/png": "[encoded data removed]"
     },
     "metadata": {
      "needs_background": "light"
     },
     "output_type": "display_data"
    }
   ],
   "source": [
    "X1 = []\n",
    "Y1 = []\n",
    "M1 = []\n",
    "best_acc_for_linear = 0\n",
    "best_C_for_linear = 0\n",
    "for C in range(1,510,10):\n",
    "        accuracy = cross_val_score(SVC(C=C/100,kernel ='linear',decision_function_shape='ovr'),x_minmax_training,y_train,cv=5,scoring='accuracy').mean()\n",
    "        if accuracy>best_acc_for_linear:\n",
    "            best_acc_for_linear = accuracy\n",
    "            best_C_for_linear = C/100\n",
    "        X1.append(C/100)\n",
    "        Y1.append(accuracy)\n",
    "        M1.append((C/100, accuracy))\n",
    "print(M1)\n",
    "plt.plot(X1,Y1)\n",
    "plt.xlabel('C')\n",
    "plt.ylabel('accuracy')\n",
    "plt.title('find best C with linear kernel')\n",
    "print(\"best_C_for_linear = %f\" % best_C_for_linear)\n",
    "print(\"best_acc_for_linear = %f\" % best_acc_for_linear)"
   ],
   "metadata": {
    "collapsed": false,
    "pycharm": {
     "name": "#%%\n"
    }
   }
  },
  {
   "cell_type": "markdown",
   "source": [
    "\n",
    "\n",
    "\n",
    "params setting part3\n",
    "###  param setting, find the best params for SVM with regularization term C poly kernel\n",
    "###  using cross-validation(grid search method)\n",
    "###  plot results with different params setting"
   ],
   "metadata": {
    "collapsed": false,
    "pycharm": {
     "name": "#%% md\n"
    }
   }
  },
  {
   "cell_type": "code",
   "execution_count": 30,
   "outputs": [
    {
     "name": "stdout",
     "output_type": "stream",
     "text": [
      "[(1, 0.7566901408450704), (2, 0.7566901408450704), (3, 0.7566901408450704), (4, 0.7566901408450704), (5, 0.7566901408450704), (6, 0.7566901408450704), (7, 0.7566901408450704), (8, 0.7566901408450704), (9, 0.7566901408450704)]\n",
      "best_C_for_poly = 1.000000\n",
      "best_acc_for_poly = 0.756690\n"
     ]
    },
    {
     "data": {
      "text/plain": "<Figure size 432x288 with 1 Axes>",
      "image/png": "[encoded data removed]"
     },
     "metadata": {
      "needs_background": "light"
     },
     "output_type": "display_data"
    }
   ],
   "source": [
    "X4 = []\n",
    "Y4 = []\n",
    "M4 = []\n",
    "best_acc_for_poly = 0\n",
    "best_C_for_poly = 0\n",
    "#for C in [0.0001,0.001,0.01,0.05,0.075,0.1,1,10,40,70,100]:\n",
    "for C in range(1,30,1):\n",
    "        accuracy = cross_val_score(SVC(C=C,kernel ='poly',decision_function_shape='ovr'),x_minmax_training,y_train,cv=5,scoring='accuracy').mean()\n",
    "        if accuracy>best_acc_for_poly:\n",
    "            best_acc_for_poly = accuracy\n",
    "            best_C_for_poly = C\n",
    "        X4.append(C)\n",
    "        Y4.append(accuracy)\n",
    "        M4.append((C, accuracy))\n",
    "print(M4)\n",
    "plt.plot(X4,Y4)\n",
    "plt.xlabel('C')\n",
    "plt.ylabel('accuracy')\n",
    "plt.title('find best C with poly kernel')\n",
    "print(\"best_C_for_poly = %f\" % best_C_for_poly)\n",
    "print(\"best_acc_for_poly = %f\" % best_acc_for_poly)"
   ],
   "metadata": {
    "collapsed": false,
    "pycharm": {
     "name": "#%%\n"
    }
   }
  },
  {
   "cell_type": "markdown",
   "source": [
    "\n",
    "\n",
    "\n",
    "params setting part4\n",
    "###  param setting, find the best params for SVM with regularization term C and gamma for RBF kernel\n",
    "###  using cross-validation(grid search method)\n",
    "###  plot results with different params setting"
   ],
   "metadata": {
    "collapsed": false,
    "pycharm": {
     "name": "#%% md\n"
    }
   }
  },
  {
   "cell_type": "code",
   "execution_count": 14,
   "outputs": [
    {
     "name": "stdout",
     "output_type": "stream",
     "text": [
      "[(0.01, 0.001, 0.11126760563380281), (0.01, 0.01, 0.11197183098591548), (0.01, 0.1, 0.12007042253521125), (0.01, 1, 0.1186619718309859), (0.01, 10, 0.11654929577464787), (0.1, 0.001, 0.11126760563380281), (0.1, 0.01, 0.43943661971830983), (0.1, 0.1, 0.4274647887323944), (0.1, 1, 0.1482394366197183), (0.1, 10, 0.11654929577464787), (1, 0.001, 0.4552816901408451), (1, 0.01, 0.6915492957746479), (1, 0.1, 0.8080985915492958), (1, 1, 0.6264084507042254), (1, 10, 0.454225352112676), (10, 0.001, 0.680281690140845), (10, 0.01, 0.7915492957746479), (10, 0.1, 0.8419014084507042), (10, 1, 0.6355633802816901), (10, 10, 0.4552816901408451), (100, 0.001, 0.7704225352112676), (100, 0.01, 0.7852112676056338), (100, 0.1, 0.840845070422535), (100, 1, 0.6355633802816901), (100, 10, 0.4552816901408451), (1000, 0.001, 0.7623239436619718), (1000, 0.01, 0.7806338028169015), (1000, 0.1, 0.840845070422535), (1000, 1, 0.6355633802816901), (1000, 10, 0.4552816901408451)]\n",
      "best_C_for_RBF = 10.000000\n",
      "best_gamma_for_RBF = 0.100000\n",
      "best_accuracy_for_RBF = 0.841901\n"
     ]
    }
   ],
   "source": [
    "X = []\n",
    "Y = []\n",
    "Z = []\n",
    "M = []\n",
    "best_C_for_RBF = 0\n",
    "best_gamma_for_RBF = 0\n",
    "best_accuracy_for_RBF = 0\n",
    "#for C in [0.01,0.1,1,10,100,1000,10000,100000,1000000,10000000]:\n",
    "    #for gamma in [1e-07,1e-06,1e-05,1e-04,1e-03,1e-02,1e-01,1,10,100,1000]:\n",
    "for C in [0.01,0.1,1,10,100,1000]:\n",
    "    for gamma in [1e-03,1e-02,1e-01,1,10]:\n",
    "        accuracy = cross_val_score(SVC(C=C,gamma=gamma,kernel ='rbf',decision_function_shape='ovr'),x_minmax_training,y_train,cv=5,scoring='accuracy').mean()\n",
    "        if best_accuracy_for_RBF<accuracy:\n",
    "            best_C_for_RBF = C\n",
    "            best_gamma_for_RBF = gamma\n",
    "            best_accuracy_for_RBF = accuracy\n",
    "        X.append(C)\n",
    "        Y.append(gamma)\n",
    "        Z.append(accuracy)\n",
    "        M.append((C, gamma, accuracy))\n",
    "print(M)\n",
    "print(\"best_C_for_RBF = %f\"%best_C_for_RBF)\n",
    "print(\"best_gamma_for_RBF = %f\"%best_gamma_for_RBF)\n",
    "print(\"best_accuracy_for_RBF = %f\"%best_accuracy_for_RBF)\n"
   ],
   "metadata": {
    "collapsed": false,
    "pycharm": {
     "name": "#%%\n"
    }
   }
  },
  {
   "cell_type": "markdown",
   "source": [
    "# table below shows cross-validation results"
   ],
   "metadata": {
    "collapsed": false,
    "pycharm": {
     "name": "#%% md\n"
    }
   }
  },
  {
   "cell_type": "code",
   "execution_count": 15,
   "outputs": [
    {
     "name": "stdout",
     "output_type": "stream",
     "text": [
      "+------+-------+---------------------+\n",
      "|  C   | gamma |       Accuracy      |\n",
      "+------+-------+---------------------+\n",
      "| 0.01 | 0.001 | 0.11126760563380281 |\n",
      "| 0.01 |  0.01 | 0.11197183098591548 |\n",
      "| 0.01 |  0.1  | 0.12007042253521125 |\n",
      "| 0.01 |   1   |  0.1186619718309859 |\n",
      "| 0.01 |   10  | 0.11654929577464787 |\n",
      "| 0.1  | 0.001 | 0.11126760563380281 |\n",
      "| 0.1  |  0.01 | 0.43943661971830983 |\n",
      "| 0.1  |  0.1  |  0.4274647887323944 |\n",
      "| 0.1  |   1   |  0.1482394366197183 |\n",
      "| 0.1  |   10  | 0.11654929577464787 |\n",
      "|  1   | 0.001 |  0.4552816901408451 |\n",
      "|  1   |  0.01 |  0.6915492957746479 |\n",
      "|  1   |  0.1  |  0.8080985915492958 |\n",
      "|  1   |   1   |  0.6264084507042254 |\n",
      "|  1   |   10  |  0.454225352112676  |\n",
      "|  10  | 0.001 |  0.680281690140845  |\n",
      "|  10  |  0.01 |  0.7915492957746479 |\n",
      "|  10  |  0.1  |  0.8419014084507042 |\n",
      "|  10  |   1   |  0.6355633802816901 |\n",
      "|  10  |   10  |  0.4552816901408451 |\n",
      "| 100  | 0.001 |  0.7704225352112676 |\n",
      "| 100  |  0.01 |  0.7852112676056338 |\n",
      "| 100  |  0.1  |  0.840845070422535  |\n",
      "| 100  |   1   |  0.6355633802816901 |\n",
      "| 100  |   10  |  0.4552816901408451 |\n",
      "| 1000 | 0.001 |  0.7623239436619718 |\n",
      "| 1000 |  0.01 |  0.7806338028169015 |\n",
      "| 1000 |  0.1  |  0.840845070422535  |\n",
      "| 1000 |   1   |  0.6355633802816901 |\n",
      "| 1000 |   10  |  0.4552816901408451 |\n",
      "+------+-------+---------------------+\n"
     ]
    }
   ],
   "source": [
    "from prettytable import PrettyTable\n",
    "x= PrettyTable([\"C\", \"gamma\", \"Accuracy\"])\n",
    "for i in M:\n",
    "    x.add_row(i)\n",
    "print(x)\n",
    "f = open('1.txt','w')\n",
    "f.write(str(x)+'\\n')\n",
    "f.close()"
   ],
   "metadata": {
    "collapsed": false,
    "pycharm": {
     "name": "#%%\n"
    }
   }
  },
  {
   "cell_type": "markdown",
   "source": [
    "\n",
    "\n",
    "functions to train 4 different SVM models above"
   ],
   "metadata": {
    "collapsed": false,
    "pycharm": {
     "name": "#%% md\n"
    }
   }
  },
  {
   "cell_type": "code",
   "execution_count": 26,
   "outputs": [],
   "source": [
    "# store running time and accuracy\n",
    "training_time = []\n",
    "testing_test_data_time = []\n",
    "testing_train_data_time = []\n",
    "accuracy_for_test_data = []\n",
    "accuracy_for_train_data = []\n",
    "\n",
    "\n",
    "#### SVM with regularization and default kernel(rbf) ########\n",
    "def C_SVM(C):\n",
    "    start = time.perf_counter()\n",
    "    svm = SVC(C = C,decision_function_shape='ovr')\n",
    "    svm.fit(x_minmax_training,y_train)\n",
    "    end = time.perf_counter()\n",
    "    training_time.append((end-start))\n",
    "    print(\"time for training default SVM with regularization = %f\" % (end-start))\n",
    "    return svm\n",
    "\n",
    "\n",
    "#### SVM with regularation and linear kernel ########\n",
    "def linear_SVM(C):\n",
    "    start = time.perf_counter()\n",
    "    svm = SVC(C = C,kernel = 'linear',decision_function_shape='ovr')\n",
    "    svm.fit(x_minmax_training,y_train)\n",
    "    end = time.perf_counter()\n",
    "    training_time.append((end-start))\n",
    "    print(\"time for training linear SVM = %f\" % (end-start))\n",
    "    return svm\n",
    "\n",
    "#### SVM with regularation and  rbf kernel ########\n",
    "def RBF_SVM(C,gamma):\n",
    "    start = time.perf_counter()\n",
    "    svm = SVC(C = C,gamma = gamma,kernel = 'rbf',decision_function_shape='ovr')\n",
    "    svm.fit(x_minmax_training,y_train)\n",
    "    end = time.perf_counter()\n",
    "    training_time.append((end-start))\n",
    "    print(\"time for training RBF SVM = %f\" % (end-start))\n",
    "    return svm\n",
    "\n",
    "\n",
    "def poly_SVM(C):\n",
    "    start = time.perf_counter()\n",
    "    svm = SVC(C = C,kernel = 'poly',decision_function_shape='ovr')\n",
    "    svm.fit(x_minmax_training,y_train)\n",
    "    end = time.perf_counter()\n",
    "    training_time.append((end-start))\n",
    "    print(\"time for training poly SVM = %f\" % (end-start))\n",
    "    return svm\n"
   ],
   "metadata": {
    "collapsed": false,
    "pycharm": {
     "name": "#%%\n"
    }
   }
  },
  {
   "cell_type": "markdown",
   "source": [
    "\n",
    "testing function for 4 models\n",
    "#test_model1 : testing testing data\n",
    "#test_model1 : testing training data"
   ],
   "metadata": {
    "collapsed": false,
    "pycharm": {
     "name": "#%% md\n"
    }
   }
  },
  {
   "cell_type": "code",
   "execution_count": 27,
   "id": "d1ee770a",
   "metadata": {
    "pycharm": {
     "name": "#%%\n"
    }
   },
   "outputs": [],
   "source": [
    "\n",
    "def test_model1(svm,xtest,ytest):\n",
    "    start = time.perf_counter()\n",
    "    error = 0\n",
    "    for i in range(len(xtest)):\n",
    "        result = svm.predict([xtest[i]])\n",
    "        if result != ytest[i]:\n",
    "            error = error+1\n",
    "    end = time.perf_counter()\n",
    "    testing_test_data_time.append((end-start))\n",
    "    accuracy_for_test_data.append((1-error/len(xtest)))\n",
    "    print(\"time for testing testing data SVM = %f\" % (end-start))\n",
    "    print(\"accuracy = %f\" % (1-error/len(xtest)))\n",
    "    return (1-error/len(xtest))\n",
    "\n",
    "\n",
    "def test_model2(svm,xtrain,ytrain):\n",
    "    start = time.perf_counter()\n",
    "    error = 0\n",
    "    for i in range(len(xtrain)):\n",
    "        result = svm.predict([xtrain[i]])\n",
    "        if result != ytrain[i]:\n",
    "            error = error+1\n",
    "    end = time.perf_counter()\n",
    "    testing_train_data_time.append((end-start))\n",
    "    accuracy_for_train_data.append((1-error/len(xtrain)))\n",
    "    print(\"time for testing training data SVM = %f\" % (end-start))\n",
    "    print(\"accuracy = %f\" % (1-error/len(xtrain)))\n",
    "    return (1-error/len(xtrain))"
   ]
  },
  {
   "cell_type": "markdown",
   "source": [
    "\n",
    "\n",
    "\n",
    "# train 4 models with the best params for minist web data,choose one to run according to dataset"
   ],
   "metadata": {
    "collapsed": false,
    "pycharm": {
     "name": "#%% md\n"
    }
   }
  },
  {
   "cell_type": "code",
   "execution_count": 28,
   "outputs": [
    {
     "name": "stdout",
     "output_type": "stream",
     "text": [
      "time for training linear SVM = 2.623721\n",
      "time for training default SVM with regularization = 2.062034\n",
      "time for training RBF SVM = 1.713508\n",
      "time for training poly SVM = 1.794266\n"
     ]
    }
   ],
   "source": [
    "best_C_for_linear_0 = 0.11\n",
    "best_C_for_regularization_0 = 2\n",
    "best_C_for_RBF_0 = 10\n",
    "best_gamma_for_RBF_0 = 0.01\n",
    "best_C_for_poly_0 = 6\n",
    "\n",
    "linear_SVM = linear_SVM(best_C_for_linear_0)\n",
    "C_SVM = C_SVM(best_C_for_regularization_0)\n",
    "RBF_SVM = RBF_SVM(best_C_for_RBF_0,best_gamma_for_RBF_0)\n",
    "poly_SVM = poly_SVM(best_C_for_poly_0)"
   ],
   "metadata": {
    "collapsed": false,
    "pycharm": {
     "name": "#%%\n"
    }
   }
  },
  {
   "cell_type": "markdown",
   "source": [
    "\n",
    "# train 4 models with the best params for bb data,choose one to run according to dataset"
   ],
   "metadata": {
    "collapsed": false,
    "pycharm": {
     "name": "#%% md\n"
    }
   }
  },
  {
   "cell_type": "code",
   "execution_count": 18,
   "outputs": [
    {
     "name": "stdout",
     "output_type": "stream",
     "text": [
      "time for training linear SVM = 3.910748\n",
      "time for training default SVM with regularization = 5.696757\n",
      "time for training RBF SVM = 7.096878\n",
      "time for training poly SVM = 2.959384\n"
     ]
    }
   ],
   "source": [
    "best_C_for_linear_230 = 0.71\n",
    "best_C_for_regularization_230 = 2.1\n",
    "best_C_for_RBF_230 = 10\n",
    "best_gamma_for_RBF_230 = 0.1\n",
    "best_C_for_poly_230 = 1\n",
    "\n",
    "linear_SVM = linear_SVM(best_C_for_linear_230)\n",
    "C_SVM = C_SVM(best_C_for_regularization_230)\n",
    "RBF_SVM = RBF_SVM(best_C_for_RBF_230,best_gamma_for_RBF_230)\n",
    "poly_SVM = poly_SVM(best_C_for_poly_230)"
   ],
   "metadata": {
    "collapsed": false,
    "pycharm": {
     "name": "#%%\n"
    }
   }
  },
  {
   "cell_type": "markdown",
   "source": [
    "\n",
    "run the test"
   ],
   "metadata": {
    "collapsed": false,
    "pycharm": {
     "name": "#%% md\n"
    }
   }
  },
  {
   "cell_type": "code",
   "execution_count": 29,
   "outputs": [
    {
     "name": "stdout",
     "output_type": "stream",
     "text": [
      "time for testing testing data SVM = 1.766975\n",
      "accuracy = 0.892222\n",
      "time for testing testing data SVM = 2.488325\n",
      "accuracy = 0.931111\n",
      "time for testing testing data SVM = 2.161975\n",
      "accuracy = 0.932222\n",
      "time for testing testing data SVM = 0.771524\n",
      "accuracy = 0.915556\n",
      "time for testing training data SVM = 3.080689\n",
      "accuracy = 0.990141\n",
      "time for testing training data SVM = 7.166654\n",
      "accuracy = 0.995423\n",
      "time for testing training data SVM = 7.346545\n",
      "accuracy = 1.000000\n",
      "time for testing training data SVM = 2.780752\n",
      "accuracy = 0.998944\n"
     ]
    }
   ],
   "source": [
    "# test 4 models with the best params using testing data\n",
    "ac2 = test_model1(linear_SVM,x_minmax_testing,y_test)\n",
    "ac3 = test_model1(C_SVM,x_minmax_testing,y_test)\n",
    "ac4 = test_model1(RBF_SVM,x_minmax_testing,y_test)\n",
    "ac5 = test_model1(poly_SVM,x_minmax_testing,y_test)\n",
    "\n",
    "# test 4 models with the best params using training data\n",
    "ac6 = test_model2(linear_SVM,x_minmax_training,y_train)\n",
    "ac7 = test_model2(C_SVM,x_minmax_training,y_train)\n",
    "ac8 = test_model2(RBF_SVM,x_minmax_training,y_train)\n",
    "ac9 = test_model2(poly_SVM,x_minmax_training,y_train)"
   ],
   "metadata": {
    "collapsed": false,
    "pycharm": {
     "name": "#%%\n"
    }
   }
  },
  {
   "cell_type": "markdown",
   "source": [
    "\n",
    "\n",
    "print out SVM classifiers performances"
   ],
   "metadata": {
    "collapsed": false,
    "pycharm": {
     "name": "#%% md\n"
    }
   }
  },
  {
   "cell_type": "code",
   "execution_count": 30,
   "outputs": [
    {
     "name": "stdout",
     "output_type": "stream",
     "text": [
      "+-----------------+------------------+------------------------------+-------------------+-----------------------------+------------------+\n",
      "| SVM classifiers | training time(s) | testing training-set time(s) | training accuracy | testing testing-set time(s) | testing accuracy |\n",
      "+-----------------+------------------+------------------------------+-------------------+-----------------------------+------------------+\n",
      "|    linear_SVM   |   2.6237208000   |         3.0806893000         |    0.9901408451   |         1.7669749000        |   0.8922222222   |\n",
      "|      C_SVM      |   2.0620339000   |         7.1666539000         |    0.9954225352   |         2.4883246000        |   0.9311111111   |\n",
      "|     RBF_SVM     |   1.7135082000   |         7.3465446000         |    1.0000000000   |         2.1619754000        |   0.9322222222   |\n",
      "|     poly_SVM    |   1.7942665000   |         2.7807525000         |    0.9989436620   |         0.7715244000        |   0.9155555556   |\n",
      "+-----------------+------------------+------------------------------+-------------------+-----------------------------+------------------+\n"
     ]
    }
   ],
   "source": [
    "ghp_label = ['linear_SVM','C_SVM','RBF_SVM','poly_SVM']\n",
    "tab = [\"SVM classifiers\",\"training time(s)\",\"testing training-set time(s)\",\"training accuracy\",\"testing testing-set time(s)\",\"testing accuracy\"]\n",
    "\n",
    "M = []\n",
    "for i in range(4):\n",
    "    M.append([ghp_label[i],format(training_time[i], '.10f'),format(testing_train_data_time[i], '.10f'),format(accuracy_for_train_data[i], '.10f'),format(testing_test_data_time[i], '.10f'),format(accuracy_for_test_data[i], '.10f')])\n",
    "from prettytable import PrettyTable\n",
    "x= PrettyTable(tab)\n",
    "for i in M:\n",
    "    x.add_row(i)\n",
    "print(x)\n",
    "\n",
    "f = open('SVM performance.txt','w')\n",
    "f.write(str(x)+'\\n')\n",
    "f.close()"
   ],
   "metadata": {
    "collapsed": false,
    "pycharm": {
     "name": "#%%\n"
    }
   }
  },
  {
   "cell_type": "code",
   "execution_count": null,
   "outputs": [],
   "source": [],
   "metadata": {
    "collapsed": false,
    "pycharm": {
     "name": "#%%\n"
    }
   }
  }
 ],
 "metadata": {
  "kernelspec": {
   "display_name": "Python 3 (ipykernel)",
   "language": "python",
   "name": "python3"
  },
  "language_info": {
   "codemirror_mode": {
    "name": "ipython",
    "version": 3
   },
   "file_extension": ".py",
   "mimetype": "text/x-python",
   "name": "python",
   "nbconvert_exporter": "python",
   "pygments_lexer": "ipython3",
   "version": "3.9.7"
  }
 },
 "nbformat": 4,
 "nbformat_minor": 5
}