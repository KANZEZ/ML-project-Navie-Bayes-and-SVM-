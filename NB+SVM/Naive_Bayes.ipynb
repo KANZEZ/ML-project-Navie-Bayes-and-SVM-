{
 "cells": [
  {
   "cell_type": "markdown",
   "source": [
    "11912705 黄松昊\n",
    "Naive_Bayes\n",
    "\n",
    "# please read ReadMe file before testing\n",
    "\n",
    "\n",
    "#DataSet: using data from both minist website and Class\n",
    "#classifier: 0-9 classifier\n",
    "\n",
    "# steps for Naive_Bayes\n",
    "\n",
    "# 1. img data pre-process (Binarization,scale(0,1),align)\n",
    "# 2. training Naive_Bayes model (4 models)\n",
    "# 4. testing & showing\n",
    "# 5. performance on different Naive_Bayes\n",
    "\n"
   ],
   "metadata": {
    "collapsed": false,
    "pycharm": {
     "name": "#%% md\n"
    }
   }
  },
  {
   "cell_type": "markdown",
   "source": [
    "import packages"
   ],
   "metadata": {
    "collapsed": false,
    "pycharm": {
     "name": "#%% md\n"
    }
   }
  },
  {
   "cell_type": "code",
   "execution_count": 1,
   "outputs": [],
   "source": [
    "import gzip\n",
    "import copy\n",
    "import numpy as np\n",
    "import time\n",
    "from sklearn import preprocessing\n",
    "from sklearn.naive_bayes import BernoulliNB\n",
    "from sklearn.naive_bayes import MultinomialNB\n",
    "from sklearn.naive_bayes import GaussianNB\n",
    "import matplotlib.pyplot as plt"
   ],
   "metadata": {
    "collapsed": false,
    "pycharm": {
     "name": "#%%\n"
    }
   }
  },
  {
   "cell_type": "markdown",
   "source": [
    "variations declaration\n",
    "28*28, 2840 training data, 900 testing data, labels from 0-9"
   ],
   "metadata": {
    "collapsed": false
   }
  },
  {
   "cell_type": "code",
   "execution_count": 2,
   "outputs": [],
   "source": [
    "image_size  = 28\n",
    "\n",
    "num_labels = 10\n",
    "\n",
    "num_train = 2840\n",
    "\n",
    "num_test = 900"
   ],
   "metadata": {
    "collapsed": false,
    "pycharm": {
     "name": "#%%\n"
    }
   }
  },
  {
   "cell_type": "markdown",
   "source": [
    "\n",
    "functions used for pre-processing data"
   ],
   "metadata": {
    "collapsed": false,
    "pycharm": {
     "name": "#%% md\n"
    }
   }
  },
  {
   "cell_type": "code",
   "execution_count": 3,
   "outputs": [],
   "source": [
    "def show_pic(img):\n",
    "    image = np.asarray(img).squeeze()\n",
    "    plt.imshow(image,'gray')\n",
    "    plt.show()\n",
    "\n",
    "\n",
    "# Binarization one img function set valve to creating 0\\1 data, two datasets to two ways\n",
    "def Binarization(img_data,valve):\n",
    "    img = copy.deepcopy(img_data)\n",
    "    if valve == 230:\n",
    "        for i in range(len(img)):\n",
    "            if img[i] <= valve:\n",
    "                img[i] = 0\n",
    "            else:\n",
    "                img[i] = 255\n",
    "    elif valve == 0:\n",
    "        for i in range(len(img)):\n",
    "            if img[i] > valve:\n",
    "                img[i] = 255\n",
    "            else:\n",
    "                img[i] = 0\n",
    "    return img\n",
    "\n",
    "\n",
    "# normalization,scale to (0,1)\n",
    "#def scale(X_train,X_test):\n",
    "    #min_max_scaler = preprocessing.MinMaxScaler(feature_range=(0, 1), copy=True)\n",
    "    #x_minmax_training = min_max_scaler.fit_transform(X_train)\n",
    "    #x_minmax_testing = min_max_scaler.fit_transform(X_test)\n",
    "    #return x_minmax_training,x_minmax_testing\n",
    "\n",
    "# normalization,scale to (0,1)\n",
    "def scale(X_train,X_test):\n",
    "    X1 = copy.deepcopy(X_train)\n",
    "    X2 = copy.deepcopy(X_test)\n",
    "    for i in range(len(X1)):\n",
    "        X1[i] = X1[i]/np.max(X1[i],axis=0)\n",
    "    for i in range(len(X2)):\n",
    "        X2[i] = X2[i]/np.max(X2[i],axis=0)\n",
    "    return X1,X2\n",
    "\n",
    "\n",
    "# picture number ceter alignment\n",
    "def align(img_data,kind):\n",
    "    img = copy.deepcopy(img_data)\n",
    "    row = 0\n",
    "    col = 0\n",
    "    sum_of_1 = 0\n",
    "\n",
    "    if kind == 0: # means data from web, which don't need to align\n",
    "        return img\n",
    "\n",
    "    elif kind == 230: # means data from bb\n",
    "        for i in range(len(img)):\n",
    "            for j in range(len(img[i])):\n",
    "                col+=j*(255-img[i][j])\n",
    "                row+=i*(255-img[i][j])\n",
    "        for i in range(len(img)):\n",
    "            sum_of_1 += np.sum(255-img[i])\n",
    "\n",
    "    col = col/sum_of_1\n",
    "    row = row/sum_of_1\n",
    "\n",
    "    img = np.roll(img,int(np.around(13.5-col)),axis=1)\n",
    "    img = np.roll(img,int(np.around(13.5-row)),axis=0)\n",
    "\n",
    "    return img"
   ],
   "metadata": {
    "collapsed": false,
    "pycharm": {
     "name": "#%%\n"
    }
   }
  },
  {
   "cell_type": "markdown",
   "source": [
    "\n",
    "\n",
    "Reading DataSet and pre-processing\n",
    "training data stored in 3 ways, same as testing data\n",
    "#  X_train: raw data(2840*784)\n",
    "#  X_train01: 0,1 data(2840*784)\n",
    "#  x_minmax_training: (0,1) data(2840*784)\n",
    "#  y_train: labels from 0-9(1*2840)"
   ],
   "metadata": {
    "collapsed": false,
    "pycharm": {
     "name": "#%% md\n"
    }
   }
  },
  {
   "cell_type": "code",
   "execution_count": 36,
   "outputs": [],
   "source": [
    "\n",
    "\n",
    "kind = 230 # 230: dataset from bb , 0: dataset from web\n",
    "\n"
   ],
   "metadata": {
    "collapsed": false,
    "pycharm": {
     "name": "#%%\n"
    }
   }
  },
  {
   "cell_type": "code",
   "execution_count": 37,
   "outputs": [
    {
     "name": "stdout",
     "output_type": "stream",
     "text": [
      "time for loading and processing training and testing dataset = 42.215316\n"
     ]
    }
   ],
   "source": [
    "# start counting\n",
    "start = time.perf_counter()\n",
    "\n",
    "if kind == 0: # load training data from web\n",
    "    f = gzip.open('train-images-idx3-ubyte.gz','r')\n",
    "elif kind == 230:\n",
    "    f = gzip.open('train-me338-2840-images-idx3-ubyte.gz','r')\n",
    "\n",
    "f.read(16)\n",
    "buf = f.read(image_size * image_size * num_train)\n",
    "data = np.frombuffer(buf, dtype=np.uint8).astype(np.float32)\n",
    "data = data.reshape(num_train, image_size, image_size, 1)\n",
    "X_train = []\n",
    "X_train01 = []\n",
    "\n",
    "for i in range(num_train):\n",
    "    X_train.append(align(data[i],kind).ravel())\n",
    "    X_train01.append(Binarization(X_train[i],kind))\n",
    "\n",
    "# convert to numpy array\n",
    "X_train01 = np.array(X_train01)\n",
    "X_train = np.array(X_train)\n",
    "\n",
    "if kind == 0: # load training data from web\n",
    "    f = gzip.open('train-labels-idx1-ubyte.gz','r')\n",
    "elif kind == 230:\n",
    "    f = gzip.open('train-me338-2840-labels-idx1-ubyte.gz','r')\n",
    "\n",
    "f.read(8)\n",
    "y_train = []\n",
    "for i in range(num_train):\n",
    "    buf = f.read(1)\n",
    "    y_train.append(np.frombuffer(buf, dtype=np.uint8).astype(np.int64))\n",
    "\n",
    "y_train = np.array(y_train)       # convert to numpy\n",
    "y_train = y_train.ravel()\n",
    "\n",
    "\n",
    "############################################\n",
    "\n",
    "\n",
    "#  load testing data stored in arrays  t10k-labels-idx1-ubyte\n",
    "if kind == 0: # load training data from web\n",
    "    f = gzip.open('t10k-images-idx3-ubyte.gz','r')\n",
    "elif kind == 230:\n",
    "    f = gzip.open('test-me338-900-images-idx3-ubyte.gz','r')\n",
    "\n",
    "f.read(16)\n",
    "buf = f.read(image_size * image_size * num_test)\n",
    "data2 = np.frombuffer(buf, dtype=np.uint8).astype(np.float32)\n",
    "data2 = data2.reshape(num_test, image_size, image_size, 1)\n",
    "\n",
    "\n",
    "X_test = []\n",
    "X_test01 = []\n",
    "\n",
    "for i in range(num_test):\n",
    "    X_test.append(align(data2[i],kind).ravel())\n",
    "    X_test01.append(Binarization(X_test[i],kind))\n",
    "\n",
    "X_test01 = np.array(X_test01)    # convert to numpy\n",
    "X_test = np.array(X_test)\n",
    "\n",
    "\n",
    "\n",
    "if kind == 0: # load data from web\n",
    "    f = gzip.open('t10k-labels-idx1-ubyte.gz','r')\n",
    "elif kind == 230:\n",
    "    f = gzip.open('test-me338-900-labels-idx1-ubyte.gz','r')\n",
    "\n",
    "f.read(8)\n",
    "y_test = []\n",
    "for i in range(num_test):\n",
    "    buf = f.read(1)\n",
    "    y_test.append(np.frombuffer(buf, dtype=np.uint8).astype(np.int64))\n",
    "y_test = np.array(y_test)\n",
    "y_test = y_test.ravel()\n",
    "\n",
    "\n",
    "#  Scale down\n",
    "#  x_minmax_training: (0,1) data(2840*784)\n",
    "#  x_minmax_testing: (0,1) data(900*784)\n",
    "x_minmax_training,x_minmax_testing = scale(X_train,X_test)\n",
    "\n",
    "# end time counter\n",
    "end = time.perf_counter()\n",
    "print(\"time for loading and processing training and testing dataset = %f\" % (end-start))"
   ],
   "metadata": {
    "collapsed": false,
    "pycharm": {
     "name": "#%%\n"
    }
   }
  },
  {
   "cell_type": "code",
   "execution_count": 44,
   "outputs": [
    {
     "name": "stdout",
     "output_type": "stream",
     "text": [
      "[1.         1.         1.         1.         1.         1.\n",
      " 1.         1.         1.         1.         1.         1.\n",
      " 1.         1.         1.         1.         1.         1.\n",
      " 1.         1.         1.         1.         1.         1.\n",
      " 1.         1.         1.         1.         1.         1.\n",
      " 1.         1.         1.         1.         1.         1.\n",
      " 1.         1.         1.         1.         1.         1.\n",
      " 1.         1.         1.         1.         1.         1.\n",
      " 1.         1.         1.         1.         1.         1.\n",
      " 1.         1.         1.         1.         1.         1.\n",
      " 1.         1.         1.         1.         1.         1.\n",
      " 1.         1.         1.         1.         1.         1.\n",
      " 1.         1.         1.         1.         1.         1.\n",
      " 1.         1.         1.         1.         1.         1.\n",
      " 1.         1.         1.         1.         1.         1.\n",
      " 1.         1.         1.         1.         1.         1.\n",
      " 1.         1.         1.         1.         1.         1.\n",
      " 1.         1.         1.         1.         1.         1.\n",
      " 1.         1.         1.         1.         1.         1.\n",
      " 1.         1.         1.         1.         1.         1.\n",
      " 1.         1.         1.         1.         1.         1.\n",
      " 1.         1.         1.         1.         1.         1.\n",
      " 1.         1.         1.         1.         1.         1.\n",
      " 1.         1.         1.         1.         1.         1.\n",
      " 1.         1.         1.         1.         1.         1.\n",
      " 1.         1.         1.         1.         1.         1.\n",
      " 1.         1.         1.         1.         1.         1.\n",
      " 1.         1.         1.         1.         1.         1.\n",
      " 1.         1.         1.         1.         1.         1.\n",
      " 1.         1.         1.         1.         1.         1.\n",
      " 0.95686275 0.7019608  0.6509804  0.90588236 1.         1.\n",
      " 1.         1.         1.         1.         1.         1.\n",
      " 1.         1.         1.         1.         1.         1.\n",
      " 1.         1.         1.         1.         1.         1.\n",
      " 1.         1.         1.         1.         0.5921569  0.4745098\n",
      " 0.54901963 0.42352942 0.8627451  1.         1.         1.\n",
      " 1.         1.         1.         1.         1.         1.\n",
      " 1.         1.         1.         1.         1.         1.\n",
      " 1.         1.         1.         1.         1.         1.\n",
      " 1.         0.9411765  0.47843137 0.93333334 1.         0.627451\n",
      " 0.6862745  1.         1.         1.         1.         1.\n",
      " 1.         1.         1.         1.         1.         1.\n",
      " 1.         1.         1.         1.         1.         1.\n",
      " 1.         1.         1.         1.         1.         0.87058824\n",
      " 0.49803922 0.9843137  1.         0.68235296 0.68235296 1.\n",
      " 1.         1.         1.         1.         1.         1.\n",
      " 1.         1.         1.         1.         1.         1.\n",
      " 1.         1.         1.         1.         1.         1.\n",
      " 1.         1.         1.         0.8235294  0.5568628  1.\n",
      " 1.         0.6509804  0.7058824  1.         1.         1.\n",
      " 1.         1.         1.         1.         1.         1.\n",
      " 1.         1.         1.         1.         1.         1.\n",
      " 1.         1.         1.         1.         1.         1.\n",
      " 1.         0.8235294  0.56078434 1.         0.99215686 0.5254902\n",
      " 0.81960785 1.         1.         1.         1.         1.\n",
      " 1.         1.         1.         1.         1.         1.\n",
      " 1.         1.         1.         1.         1.         1.\n",
      " 1.         1.         1.         1.         1.         0.8235294\n",
      " 0.56078434 1.         0.8235294  0.47058824 0.95686275 1.\n",
      " 1.         1.         1.         1.         1.         1.\n",
      " 1.         1.         1.         1.         1.         1.\n",
      " 1.         1.         1.         1.         1.         1.\n",
      " 1.         1.         1.         0.8117647  0.5568628  0.94509804\n",
      " 0.4745098  0.74509805 1.         1.         1.         1.\n",
      " 1.         1.         1.         1.         1.         1.\n",
      " 1.         1.         1.         1.         1.         1.\n",
      " 1.         1.         1.         1.         1.         1.\n",
      " 1.         0.74509805 0.25490198 0.4        0.61960787 0.98039216\n",
      " 1.         1.         1.         1.         1.         1.\n",
      " 1.         1.         1.         1.         1.         1.\n",
      " 1.         1.         1.         1.         1.         1.\n",
      " 1.         1.         1.         1.         1.         0.94509804\n",
      " 0.42745098 0.6862745  0.99215686 1.         1.         1.\n",
      " 1.         1.         1.         1.         1.         1.\n",
      " 1.         1.         1.         1.         1.         1.\n",
      " 1.         1.         1.         1.         1.         1.\n",
      " 1.         1.         1.         1.         0.6784314  0.6392157\n",
      " 1.         1.         1.         1.         1.         1.\n",
      " 1.         1.         1.         1.         1.         1.\n",
      " 1.         1.         1.         1.         1.         1.\n",
      " 1.         1.         1.         1.         1.         1.\n",
      " 1.         1.         0.8901961  0.4862745  0.9607843  1.\n",
      " 1.         1.         1.         1.         1.         1.\n",
      " 1.         1.         1.         1.         1.         1.\n",
      " 1.         1.         1.         1.         1.         1.\n",
      " 1.         1.         1.         1.         1.         1.\n",
      " 0.9764706  0.5019608  0.90588236 1.         1.         1.\n",
      " 1.         1.         1.         1.         1.         1.\n",
      " 1.         1.         1.         1.         1.         1.\n",
      " 1.         1.         1.         1.         1.         1.\n",
      " 1.         1.         1.         1.         0.99607843 0.5294118\n",
      " 0.8352941  1.         1.         1.         1.         1.\n",
      " 1.         1.         1.         1.         1.         1.\n",
      " 1.         1.         1.         1.         1.         1.\n",
      " 1.         1.         1.         1.         1.         1.\n",
      " 1.         1.         1.         0.5803922  0.79607844 1.\n",
      " 1.         1.         1.         1.         1.         1.\n",
      " 1.         1.         1.         1.         1.         1.\n",
      " 1.         1.         1.         1.         1.         1.\n",
      " 1.         1.         1.         1.         1.         1.\n",
      " 1.         0.5803922  0.79607844 1.         1.         1.\n",
      " 1.         1.         1.         1.         1.         1.\n",
      " 1.         1.         1.         1.         1.         1.\n",
      " 1.         1.         1.         1.         1.         1.\n",
      " 1.         1.         1.         1.         1.         0.5803922\n",
      " 0.79607844 1.         1.         1.         1.         1.\n",
      " 1.         1.         1.         1.         1.         1.\n",
      " 1.         1.         1.         1.         1.         1.\n",
      " 1.         1.         1.         1.         1.         1.\n",
      " 1.         1.         1.         0.58431375 0.8        1.\n",
      " 1.         1.         1.         1.         1.         1.\n",
      " 1.         1.         1.         1.         1.         1.\n",
      " 1.         1.         1.         1.         1.         1.\n",
      " 1.         1.         1.         1.         1.         1.\n",
      " 1.         0.8509804  0.9254902  1.         1.         1.\n",
      " 1.         1.         1.         1.         1.         1.\n",
      " 1.         1.         1.         1.         1.         1.\n",
      " 1.         1.         1.         1.         1.         1.\n",
      " 1.         1.         1.         1.         1.         1.\n",
      " 1.         1.         1.         1.         1.         1.\n",
      " 1.         1.         1.         1.         1.         1.\n",
      " 1.         1.         1.         1.         1.         1.\n",
      " 1.         1.         1.         1.         1.         1.\n",
      " 1.         1.         1.         1.         1.         1.\n",
      " 1.         1.         1.         1.         1.         1.\n",
      " 1.         1.         1.         1.         1.         1.\n",
      " 1.         1.         1.         1.         1.         1.\n",
      " 1.         1.         1.         1.         1.         1.\n",
      " 1.         1.         1.         1.         1.         1.\n",
      " 1.         1.         1.         1.         1.         1.\n",
      " 1.         1.         1.         1.        ]\n"
     ]
    },
    {
     "data": {
      "text/plain": "<Figure size 432x288 with 1 Axes>",
      "image/png": "[encoded data removed]"
     },
     "metadata": {
      "needs_background": "light"
     },
     "output_type": "display_data"
    },
    {
     "data": {
      "text/plain": "<Figure size 432x288 with 1 Axes>",
      "image/png": "[encoded data removed]"
     },
     "metadata": {
      "needs_background": "light"
     },
     "output_type": "display_data"
    }
   ],
   "source": [
    "print(x_minmax_training[0])\n",
    "a = np.array(x_minmax_training[0])\n",
    "a = np.reshape(a,(28,28))\n",
    "show_pic(a)\n",
    "\n",
    "show_pic(data[0])"
   ],
   "metadata": {
    "collapsed": false,
    "pycharm": {
     "name": "#%%\n"
    }
   }
  },
  {
   "cell_type": "markdown",
   "source": [
    "\n",
    "\n",
    "My simple Navie Bayes base on Bernoulli"
   ],
   "metadata": {
    "collapsed": false,
    "pycharm": {
     "name": "#%% md\n"
    }
   }
  },
  {
   "cell_type": "code",
   "execution_count": 38,
   "outputs": [
    {
     "name": "stdout",
     "output_type": "stream",
     "text": [
      "time for training my simple bayes = 5.960646\n"
     ]
    }
   ],
   "source": [
    "# record error rate for numbers\n",
    "error_count1 = [0,0,0,0,0,0,0,0,0,0]\n",
    "\n",
    "\n",
    "# store running time and accuracy\n",
    "testing_data_time = []\n",
    "training_data_time = []\n",
    "training_time = []\n",
    "training_accuracy = []\n",
    "testing_accuracy = []\n",
    "\n",
    "\n",
    "#  training function\n",
    "def simple_Bayes_model(X,y_training):\n",
    "    X_training = copy.deepcopy(X)\n",
    "    probs = np.ones((num_labels,image_size*image_size))\n",
    "    label_count = np.array([0,0,0,0,0,0,0,0,0,0])\n",
    "    for i in range(len(X_training)):\n",
    "        for j in range(len(X_training[0])):\n",
    "            if kind == 0:\n",
    "                if X_training[i][j] == 255:\n",
    "                    probs[y_training[i]][j] = probs[y_training[i]][j]+1\n",
    "            else:\n",
    "                if X_training[i][j] == 0:\n",
    "                    probs[y_training[i]][j] = probs[y_training[i]][j]+1\n",
    "        label_count[y_training[i]]+=1\n",
    "    for j in range(len(probs)):\n",
    "        probs[j]  =  probs[j]/(label_count[j]+2)\n",
    "    label_count = label_count/num_train\n",
    "    return probs,label_count\n",
    "\n",
    "\n",
    "# train my simple bayes and measure training time #\n",
    "start = time.perf_counter()\n",
    "\n",
    "probs,prior= simple_Bayes_model(X_train01,y_train)\n",
    "\n",
    "end = time.perf_counter()\n",
    "\n",
    "training_time.append((end-start))\n",
    "print(\"time for training my simple bayes = %f\" % (end-start))\n",
    "\n"
   ],
   "metadata": {
    "collapsed": false,
    "pycharm": {
     "name": "#%%\n"
    }
   }
  },
  {
   "cell_type": "markdown",
   "source": [
    "\n",
    "testing my simple bayes model"
   ],
   "metadata": {
    "collapsed": false,
    "pycharm": {
     "name": "#%% md\n"
    }
   }
  },
  {
   "cell_type": "code",
   "execution_count": 39,
   "outputs": [
    {
     "name": "stdout",
     "output_type": "stream",
     "text": [
      "testing data accuracy for my simple bayes = 0.795556\n",
      "time for testing my simple bayes = 54.544818\n",
      "training data accuracy for my simple bayes = 0.597183\n",
      "time for testing my simple bayes = 156.195075\n"
     ]
    }
   ],
   "source": [
    "#function to test my simple bayes#\n",
    "\n",
    "def testing_simple_model(X,probs):\n",
    "    class_probs=[]\n",
    "    sum1 = 0\n",
    "    X_testing = copy.deepcopy(X)\n",
    "    for i in range(len(probs)):\n",
    "        for j in range(len(probs[0])):\n",
    "            if kind == 0:\n",
    "                if X_testing[j] == 0:\n",
    "                    sum1 = sum1 + np.log(1-probs[i][j])\n",
    "                elif X_testing[j] == 255:\n",
    "                    sum1 = sum1 + np.log(probs[i][j])\n",
    "            else:\n",
    "                if X_testing[j] == 0:\n",
    "                    sum1 = sum1 + np.log(probs[i][j])\n",
    "                elif X_testing[j] == 255:\n",
    "                    sum1 = sum1 + np.log(1-probs[i][j])\n",
    "\n",
    "        sum1 = sum1 + np.log(prior[i])\n",
    "        class_probs.append(sum1)\n",
    "        sum1 = 0\n",
    "    return class_probs\n",
    "\n",
    "\n",
    "#test my simple bayes and measure time for testing data and training data#\n",
    "start = time.perf_counter()\n",
    "error = 0\n",
    "for i in range(len(X_test01)):\n",
    "    li = testing_simple_model(X_test01[i],probs)\n",
    "    if y_test[i] != li.index(max(li)):\n",
    "        error += 1\n",
    "        error_count1[y_test[i]] += 1\n",
    "end = time.perf_counter()\n",
    "print(\"testing data accuracy for my simple bayes = %f\" % (1-(error/num_test)))\n",
    "testing_data_time.append((end-start))\n",
    "testing_accuracy.append((1-error/num_test))\n",
    "print(\"time for testing my simple bayes = %f\" % (end-start))\n",
    "\n",
    "start = time.perf_counter()\n",
    "error = 0\n",
    "for i in range(len(X_train01)):\n",
    "    li1 = testing_simple_model(X_train01[i],probs)\n",
    "    if y_train[i] != li1.index(max(li1)):\n",
    "        error+= 1\n",
    "print(\"training data accuracy for my simple bayes = %f\" % (1-error/num_train))\n",
    "end = time.perf_counter()\n",
    "training_data_time.append((end-start))\n",
    "training_accuracy.append((1-error/num_train))\n",
    "print(\"time for testing my simple bayes = %f\" % (end-start))\n",
    "\n"
   ],
   "metadata": {
    "collapsed": false,
    "pycharm": {
     "name": "#%%\n"
    }
   }
  },
  {
   "cell_type": "markdown",
   "source": [
    "\n",
    "print out error rate figure"
   ],
   "metadata": {
    "collapsed": false,
    "pycharm": {
     "name": "#%% md\n"
    }
   }
  },
  {
   "cell_type": "code",
   "execution_count": 31,
   "outputs": [
    {
     "data": {
      "text/plain": "Text(0, 0.5, 'error count')"
     },
     "execution_count": 31,
     "metadata": {},
     "output_type": "execute_result"
    },
    {
     "data": {
      "text/plain": "<Figure size 432x288 with 1 Axes>",
      "image/png": "[encoded data removed]"
     },
     "metadata": {
      "needs_background": "light"
     },
     "output_type": "display_data"
    }
   ],
   "source": [
    "plt.plot([0,1,2,3,4,5,6,7,8,9],error_count1)\n",
    "plt.title('error count for simple bayes')\n",
    "plt.xlabel('number')\n",
    "plt.ylabel('error count')"
   ],
   "metadata": {
    "collapsed": false,
    "pycharm": {
     "name": "#%%\n"
    }
   }
  },
  {
   "cell_type": "markdown",
   "source": [
    "\n",
    "BernoulliNB"
   ],
   "metadata": {
    "collapsed": false,
    "pycharm": {
     "name": "#%% md\n"
    }
   }
  },
  {
   "cell_type": "code",
   "execution_count": 40,
   "outputs": [
    {
     "name": "stdout",
     "output_type": "stream",
     "text": [
      "time for training Bernoulli bayes = 0.058540\n",
      "time for testing Bernoulli bayes = 0.015778\n",
      "testing data accuracy for Bernoulli bayes = 0.795556\n",
      "time for testing Bernoulli bayes = 0.041616\n",
      "training data accuracy for Bernoulli bayes = 0.597183\n"
     ]
    }
   ],
   "source": [
    "#train and test BernoulliNB and measure running time#\n",
    "\n",
    "def create_BernoulliNB():\n",
    "    bnl = BernoulliNB(alpha=1,binarize=0,fit_prior=True,class_prior=None).fit(X_train01, y_train)\n",
    "    return bnl\n",
    "\n",
    "def test_BernoulliNB():\n",
    "    start = time.perf_counter()\n",
    "    bnl = create_BernoulliNB()\n",
    "    end = time.perf_counter()\n",
    "    print(\"time for training Bernoulli bayes = %f\" % (end-start))\n",
    "    training_time.append((end-start))\n",
    "\n",
    "    start = time.perf_counter()\n",
    "    score = bnl.score(X_test01,y_test)\n",
    "    end = time.perf_counter()\n",
    "    print(\"time for testing Bernoulli bayes = %f\" % (end-start))\n",
    "    testing_data_time.append((end-start))\n",
    "    testing_accuracy.append(score)\n",
    "    print(\"testing data accuracy for Bernoulli bayes = %f\" % score)\n",
    "\n",
    "\n",
    "    start = time.perf_counter()\n",
    "    score = bnl.score(X_train01,y_train)\n",
    "    end = time.perf_counter()\n",
    "    print(\"time for testing Bernoulli bayes = %f\" % (end-start))\n",
    "    training_data_time.append((end-start))\n",
    "    training_accuracy.append(score)\n",
    "    print(\"training data accuracy for Bernoulli bayes = %f\" % score)\n",
    "\n",
    "\n",
    "test_BernoulliNB()\n"
   ],
   "metadata": {
    "collapsed": false,
    "pycharm": {
     "name": "#%%\n"
    }
   }
  },
  {
   "cell_type": "markdown",
   "source": [
    "\n",
    "MultinomialNB"
   ],
   "metadata": {
    "collapsed": false,
    "pycharm": {
     "name": "#%% md\n"
    }
   }
  },
  {
   "cell_type": "code",
   "execution_count": 41,
   "outputs": [
    {
     "name": "stdout",
     "output_type": "stream",
     "text": [
      "time for training Multinomial bayes = 0.022241\n",
      "time for testing Multinomial bayes = 0.008477\n",
      "testing data accuracy for Multinomial bayes = 0.804444\n",
      "time for testing Multinomial bayes = 0.026169\n",
      "training data accuracy for Multinomial bayes = 0.566901\n"
     ]
    }
   ],
   "source": [
    "#train and test MultinomialNB #\n",
    "\n",
    "def create_MultinomialNB():\n",
    "    # shrink to [0,1]\n",
    "    Bayes = MultinomialNB(alpha=0.01).fit(x_minmax_training, y_train)\n",
    "    return Bayes\n",
    "\n",
    "def test_MultinomialNB():\n",
    "    start = time.perf_counter()\n",
    "    Bayes = create_MultinomialNB()\n",
    "    end = time.perf_counter()\n",
    "    print(\"time for training Multinomial bayes = %f\" % (end-start))\n",
    "    training_time.append((end-start))\n",
    "\n",
    "    start = time.perf_counter()\n",
    "    score = Bayes.score(x_minmax_testing,y_test)\n",
    "    end = time.perf_counter()\n",
    "    print(\"time for testing Multinomial bayes = %f\" % (end-start))\n",
    "    testing_data_time.append((end-start))\n",
    "    testing_accuracy.append(score)\n",
    "    print(\"testing data accuracy for Multinomial bayes = %f\" % score)\n",
    "\n",
    "    start = time.perf_counter()\n",
    "    score = Bayes.score(x_minmax_training,y_train)\n",
    "    end = time.perf_counter()\n",
    "    print(\"time for testing Multinomial bayes = %f\" % (end-start))\n",
    "    training_data_time.append((end-start))\n",
    "    training_accuracy.append(score)\n",
    "    print(\"training data accuracy for Multinomial bayes = %f\" % score)\n",
    "\n",
    "test_MultinomialNB()\n"
   ],
   "metadata": {
    "collapsed": false,
    "pycharm": {
     "name": "#%%\n"
    }
   }
  },
  {
   "cell_type": "markdown",
   "source": [
    "\n",
    "GaussianNB"
   ],
   "metadata": {
    "collapsed": false,
    "pycharm": {
     "name": "#%% md\n"
    }
   }
  },
  {
   "cell_type": "code",
   "execution_count": 42,
   "outputs": [
    {
     "name": "stdout",
     "output_type": "stream",
     "text": [
      "time for training Gaussian bayes = 0.047615\n",
      "time for testing Gaussian bayes = 0.212460\n",
      "testing data accuracy for Gaussian bayes = 0.410000\n",
      "time for testing Gaussian bayes = 0.574582\n",
      "training data accuracy for Gaussian bayes = 0.402465\n"
     ]
    }
   ],
   "source": [
    "#train and test GaussianNB#\n",
    "\n",
    "def create_GaussianNB():\n",
    "    gnb = GaussianNB().fit(x_minmax_training,y_train)\n",
    "    return gnb\n",
    "\n",
    "\n",
    "def test_GaussianNB():\n",
    "    start = time.perf_counter()\n",
    "    gsb = create_GaussianNB()\n",
    "    end = time.perf_counter()\n",
    "    print(\"time for training Gaussian bayes = %f\" % (end-start))\n",
    "    training_time.append((end-start))\n",
    "\n",
    "\n",
    "    start = time.perf_counter()\n",
    "    score = gsb.score(x_minmax_testing,y_test)\n",
    "    end = time.perf_counter()\n",
    "    print(\"time for testing Gaussian bayes = %f\" % (end-start))\n",
    "    testing_data_time.append((end-start))\n",
    "    testing_accuracy.append(score)\n",
    "    print(\"testing data accuracy for Gaussian bayes = %f\" % score)\n",
    "\n",
    "\n",
    "    start = time.perf_counter()\n",
    "    score = gsb.score(x_minmax_training,y_train)\n",
    "    end = time.perf_counter()\n",
    "    print(\"time for testing Gaussian bayes = %f\" % (end-start))\n",
    "    training_data_time.append((end-start))\n",
    "    training_accuracy.append(score)\n",
    "    print(\"training data accuracy for Gaussian bayes = %f\" % score)\n",
    "\n",
    "test_GaussianNB()"
   ],
   "metadata": {
    "collapsed": false,
    "pycharm": {
     "name": "#%%\n"
    }
   }
  },
  {
   "cell_type": "markdown",
   "source": [
    "\n",
    "print out Bayes classifiers performances"
   ],
   "metadata": {
    "collapsed": false,
    "pycharm": {
     "name": "#%% md\n"
    }
   }
  },
  {
   "cell_type": "code",
   "execution_count": 43,
   "outputs": [
    {
     "name": "stdout",
     "output_type": "stream",
     "text": [
      "+-------------------+------------------+------------------------------+-------------------+-----------------------------+------------------+\n",
      "| Bayes classifiers | training time(s) | testing training-set time(s) | training accuracy | testing testing-set time(s) | testing accuracy |\n",
      "+-------------------+------------------+------------------------------+-------------------+-----------------------------+------------------+\n",
      "|  my_simple_bayes  |   5.9606458000   |        156.1950747000        |    0.5971830986   |        54.5448183000        |   0.7955555556   |\n",
      "|    BernoulliNB    |   0.0585398000   |         0.0416156000         |    0.5971830986   |         0.0157779000        |   0.7955555556   |\n",
      "|   MultinomialNB   |   0.0222408000   |         0.0261693000         |    0.5669014085   |         0.0084770000        |   0.8044444444   |\n",
      "|     GaussianNB    |   0.0476149000   |         0.5745815000         |    0.4024647887   |         0.2124597000        |   0.4100000000   |\n",
      "+-------------------+------------------+------------------------------+-------------------+-----------------------------+------------------+\n"
     ]
    }
   ],
   "source": [
    "ghp_label = ['my_simple_bayes','BernoulliNB','MultinomialNB','GaussianNB']\n",
    "tab = [\"Bayes classifiers\",\"training time(s)\",\"testing training-set time(s)\",\"training accuracy\",\"testing testing-set time(s)\",\"testing accuracy\"]\n",
    "\n",
    "M = []\n",
    "for i in range(4):\n",
    "    M.append([ghp_label[i],format(training_time[i], '.10f'),format(training_data_time[i], '.10f'),format(training_accuracy[i], '.10f'),format(testing_data_time[i], '.10f'),format(testing_accuracy[i], '.10f')])\n",
    "\n",
    "from prettytable import PrettyTable\n",
    "x= PrettyTable(tab)\n",
    "for i in M:\n",
    "    x.add_row(i)\n",
    "print(x)\n",
    "\n",
    "f = open('Naive_Bayes performance.txt','w')\n",
    "f.write(str(x)+'\\n')\n",
    "f.close()"
   ],
   "metadata": {
    "collapsed": false,
    "pycharm": {
     "name": "#%%\n"
    }
   }
  },
  {
   "cell_type": "code",
   "execution_count": null,
   "outputs": [],
   "source": [],
   "metadata": {
    "collapsed": false,
    "pycharm": {
     "name": "#%%\n"
    }
   }
  }
 ],
 "metadata": {
  "kernelspec": {
   "display_name": "Python 3",
   "language": "python",
   "name": "python3"
  },
  "language_info": {
   "codemirror_mode": {
    "name": "ipython",
    "version": 2
   },
   "file_extension": ".py",
   "mimetype": "text/x-python",
   "name": "python",
   "nbconvert_exporter": "python",
   "pygments_lexer": "ipython2",
   "version": "2.7.6"
  }
 },
 "nbformat": 4,
 "nbformat_minor": 0
}